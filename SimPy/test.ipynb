{
 "cells": [
  {
   "cell_type": "markdown",
   "metadata": {},
   "source": [
    "### Requirements"
   ]
  },
  {
   "cell_type": "code",
   "execution_count": 1,
   "metadata": {},
   "outputs": [],
   "source": [
    "import json\n",
    "import os\n",
    "\n",
    "from latex2sympy2 import latex2sympy, latex2latex\n",
    "from sympy import simplify, srepr, Eq\n",
    "from difflib import SequenceMatcher\n",
    "from main import *"
   ]
  },
  {
   "cell_type": "markdown",
   "metadata": {},
   "source": [
    "### Constants"
   ]
  },
  {
   "cell_type": "code",
   "execution_count": 2,
   "metadata": {},
   "outputs": [],
   "source": [
    "BASE_PATH = os.path.dirname(os.path.abspath(\"__file__\"))\n",
    "DATA_FILE = \"data_example.json\""
   ]
  },
  {
   "cell_type": "markdown",
   "metadata": {},
   "source": [
    "### Read data"
   ]
  },
  {
   "cell_type": "code",
   "execution_count": 3,
   "metadata": {},
   "outputs": [],
   "source": [
    "# Latex string data\n",
    "\n",
    "expr1 = r\"\\frac{d}{dx}(x^2 + 2*x) \\times \\int x \\,dx\"\n",
    "expr2 = r\"x^3 + x^2\" # Correct would be x^3 + x^2"
   ]
  },
  {
   "cell_type": "code",
   "execution_count": 4,
   "metadata": {},
   "outputs": [],
   "source": [
    "# JSON tree data\n",
    "\n",
    "with open(os.path.join(BASE_PATH, DATA_FILE), 'r') as file:\n",
    "    json_data = json.load(file)\n",
    "\n",
    "tree1 = json_data.get(\"exprl\", {}) # Template answer\n",
    "tree2 = json_data.get(\"expr2\", {}) # Right answer\n",
    "tree3 = json_data.get(\"expr3\", {}) # Wrong answer"
   ]
  },
  {
   "cell_type": "markdown",
   "metadata": {},
   "source": [
    "### Test of similarity tree analysis"
   ]
  },
  {
   "cell_type": "code",
   "execution_count": null,
   "metadata": {},
   "outputs": [],
   "source": [
    "tree1 = latex_to_tree(expr1)\n",
    "tree2 = latex_to_tree(expr2)\n",
    "expression_tree_similarity = get_tree_sequence_similarity(tree1, tree2)\n",
    "print(f\"Expression tree similarity: {round(expression_tree_similarity*100, 0)}%\")"
   ]
  },
  {
   "cell_type": "markdown",
   "metadata": {},
   "source": [
    "### Test Bert text similarity"
   ]
  },
  {
   "cell_type": "code",
   "execution_count": null,
   "metadata": {},
   "outputs": [],
   "source": [
    "from latex2sympy2 import latex2sympy, latex2latex\n",
    "from sympy import simplify, srepr, Eq\n",
    "from difflib import SequenceMatcher\n",
    "from main import *"
   ]
  },
  {
   "cell_type": "code",
   "execution_count": null,
   "metadata": {},
   "outputs": [],
   "source": [
    "# Carregar o modelo BERT pré-treinado e o tokenizador\n",
    "modelo = BertModel.from_pretrained('bert-base-uncased')\n",
    "tokenizer = BertTokenizer.from_pretrained('bert-base-uncased')"
   ]
  },
  {
   "cell_type": "code",
   "execution_count": null,
   "metadata": {},
   "outputs": [],
   "source": [
    "emb1 = get_bert_embeddings(latex2latex(expr1), modelo, tokenizer)\n",
    "emb2 = get_bert_embeddings(latex2latex(expr2), modelo, tokenizer)\n",
    "print(f\"Expression tree similarity: {round(get_text_similarity(emb1, emb2)*100,0)}%\")"
   ]
  },
  {
   "cell_type": "markdown",
   "metadata": {},
   "source": [
    "### Tree edit distance (Zhang-Shasha)"
   ]
  },
  {
   "cell_type": "code",
   "execution_count": 5,
   "metadata": {},
   "outputs": [],
   "source": [
    "def tree_edit_distance(tree1, tree2):\n",
    "    # Helper function to calculate the cost between two nodes\n",
    "    def node_cost(node1, node2):\n",
    "        return 0 if node1[\"val\"] == node2[\"val\"] else 1\n",
    "\n",
    "    # Helper function to compute the minimum cost between subtrees\n",
    "    def edit_distance(node1, node2, memo):\n",
    "        if \"children\" not in node1 and \"children\" not in node2:\n",
    "            cost = node_cost(node1, node2)\n",
    "        else:\n",
    "            cost = float('inf')\n",
    "            for child1 in node1.get(\"children\", []):\n",
    "                for child2 in node2.get(\"children\", []):\n",
    "                    cost = min(cost, edit_distance(child1, child2, memo))\n",
    "\n",
    "            cost += node_cost(node1, node2)\n",
    "\n",
    "        memo[(node1[\"id\"], node2[\"id\"])] = cost\n",
    "        return cost\n",
    "\n",
    "    # Initialize memoization dictionary\n",
    "    memo = {}\n",
    "\n",
    "    # Calculate the tree edit distance\n",
    "    distance = edit_distance(tree1, tree2, memo)\n",
    "    return distance"
   ]
  },
  {
   "cell_type": "code",
   "execution_count": 6,
   "metadata": {},
   "outputs": [
    {
     "name": "stdout",
     "output_type": "stream",
     "text": [
      "Tree Edit Distance: 0\n"
     ]
    }
   ],
   "source": [
    "distance = tree_edit_distance(tree1, tree2)\n",
    "print(\"Tree Edit Distance:\", distance)"
   ]
  },
  {
   "cell_type": "code",
   "execution_count": 7,
   "metadata": {},
   "outputs": [
    {
     "name": "stdout",
     "output_type": "stream",
     "text": [
      "Tree Edit Distance: 0\n"
     ]
    }
   ],
   "source": [
    "distance = tree_edit_distance(tree1, tree3)\n",
    "print(\"Tree Edit Distance:\", distance)"
   ]
  }
 ],
 "metadata": {
  "kernelspec": {
   "display_name": "Python 3",
   "language": "python",
   "name": "python3"
  },
  "language_info": {
   "codemirror_mode": {
    "name": "ipython",
    "version": 3
   },
   "file_extension": ".py",
   "mimetype": "text/x-python",
   "name": "python",
   "nbconvert_exporter": "python",
   "pygments_lexer": "ipython3",
   "version": "3.11.8"
  }
 },
 "nbformat": 4,
 "nbformat_minor": 2
}
